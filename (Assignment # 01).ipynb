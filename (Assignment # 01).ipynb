{
 "cells": [
  {
   "cell_type": "code",
   "execution_count": 4,
   "metadata": {
    "scrolled": false
   },
   "outputs": [
    {
     "name": "stdout",
     "output_type": "stream",
     "text": [
      "Twinkle, twinkle, little star,\n",
      " \tHow I wonder what you are!\n",
      " \t\tUp above the world so high,\n",
      " \t\tLike a diamond in the sky.\n",
      "Twinkle, twinkle, littlestar,\n",
      " \tHow I wonder what you are!\n"
     ]
    }
   ],
   "source": [
    "# Question-01\n",
    "print(\"Twinkle, twinkle, little star,\\n \\tHow I wonder what you are!\\n \\t\\tUp above the world so high,\\n \\t\\tLike a diamond in the sky.\\nTwinkle, twinkle, littlestar,\\n \\tHow I wonder what you are!\")"
   ]
  },
  {
   "cell_type": "code",
   "execution_count": 6,
   "metadata": {},
   "outputs": [
    {
     "name": "stdout",
     "output_type": "stream",
     "text": [
      "Python version\n",
      "3.7.3 (default, Apr 24 2019, 15:29:51) [MSC v.1915 64 bit (AMD64)]\n"
     ]
    }
   ],
   "source": [
    "# Question-02\n",
    "import sys\n",
    "print(\"Python version\")\n",
    "print (sys.version)"
   ]
  },
  {
   "cell_type": "code",
   "execution_count": 12,
   "metadata": {},
   "outputs": [
    {
     "name": "stdout",
     "output_type": "stream",
     "text": [
      "Current Date and Time is: 2019-11-14 09:20:15.898468\n"
     ]
    }
   ],
   "source": [
    "# Question-03\n",
    "import datetime as dt\n",
    "print('Current Date and Time is:',dt.datetime.now())"
   ]
  },
  {
   "cell_type": "code",
   "execution_count": 14,
   "metadata": {},
   "outputs": [
    {
     "name": "stdout",
     "output_type": "stream",
     "text": [
      "Enter circle Radius: 25\n",
      "Area of Circle is:  1963.75\n"
     ]
    }
   ],
   "source": [
    "# Question-04\n",
    "Radius = float(input(\"Enter circle Radius: \"))\n",
    "Area = 3.142 * (Radius**2)\n",
    "print('Area of Circle is: ',Area)"
   ]
  },
  {
   "cell_type": "code",
   "execution_count": 1,
   "metadata": {},
   "outputs": [
    {
     "name": "stdout",
     "output_type": "stream",
     "text": [
      "Your first name: Ali\n",
      "Your last name: Hammad\n",
      "Hammad Ali\n"
     ]
    }
   ],
   "source": [
    "# Question-05\n",
    "FName=input(\"Your first name: \");\n",
    "LName=input(\"Your last name: \");\n",
    "print(LName,FName)"
   ]
  },
  {
   "cell_type": "code",
   "execution_count": 21,
   "metadata": {},
   "outputs": [
    {
     "name": "stdout",
     "output_type": "stream",
     "text": [
      "First Number: 52.12\n",
      "Second Number: 6532.1254\n",
      "Sum is = 6584.25\n"
     ]
    }
   ],
   "source": [
    "# Question-06\n",
    "n1=float(input(\"First Number: \"))\n",
    "n2=float(input(\"Second Number: \"))\n",
    "print(\"Sum is =\",round(n1+n2,2))"
   ]
  },
  {
   "cell_type": "code",
   "execution_count": null,
   "metadata": {},
   "outputs": [],
   "source": []
  }
 ],
 "metadata": {
  "kernelspec": {
   "display_name": "Python 3",
   "language": "python",
   "name": "python3"
  },
  "language_info": {
   "codemirror_mode": {
    "name": "ipython",
    "version": 3
   },
   "file_extension": ".py",
   "mimetype": "text/x-python",
   "name": "python",
   "nbconvert_exporter": "python",
   "pygments_lexer": "ipython3",
   "version": "3.7.3"
  }
 },
 "nbformat": 4,
 "nbformat_minor": 2
}
