{
 "cells": [
  {
   "cell_type": "code",
   "execution_count": 9,
   "metadata": {},
   "outputs": [
    {
     "name": "stdout",
     "output_type": "stream",
     "text": [
      "Enter Maths marks out of 100: 98\n",
      "Enter English marks out of 100: 78\n",
      "Enter Physics marks out of 100: 95\n",
      "Enter Chemistry marks out of 100: 75\n",
      "Enter Computer Science marks out of 100: 68\n",
      "Total Marks = 414\n",
      "Percentage = 82.8 %\n",
      "Grade:  grade A\n"
     ]
    }
   ],
   "source": [
    "# question-01\n",
    "subjects = ['Maths','English','Physics','Chemistry','Computer Science']\n",
    "totmrk=0;\n",
    "for i in range(len(subjects)):\n",
    "    inpt=int(input(\"Enter \"+subjects[i]+\" marks out of 100: \"))\n",
    "    totmrk += inpt\n",
    "\n",
    "print(\"Total Marks =\",totmrk)  \n",
    "percentage=(totmrk/500)*100\n",
    "print(\"Percentage =\",percentage,'%')\n",
    "if percentage>=80:\n",
    "    print(\"Grade: \",\"grade A\")\n",
    "elif percentage>=70:\n",
    "    print(\"Grade: \",\"grade B\")\n",
    "elif percentage>=60:\n",
    "    print(\"Grade: \",\"grade C\")    \n",
    "elif percentage>=50:\n",
    "    print(\"Grade: \",\"grade D\") \n",
    "else:\n",
    "    print(\"Grade: \",\"fail\")"
   ]
  },
  {
   "cell_type": "code",
   "execution_count": 14,
   "metadata": {},
   "outputs": [
    {
     "name": "stdout",
     "output_type": "stream",
     "text": [
      "Enter Number: 8\n",
      "Number 8 is even\n"
     ]
    }
   ],
   "source": [
    "# question-02\n",
    "inpt=int(input(\"Enter Number: \"))\n",
    "if inpt%2!=0:\n",
    "    print(\"Number\",inpt,\"is odd\")\n",
    "else:\n",
    "    print(\"Number\",inpt,\"is even\")"
   ]
  },
  {
   "cell_type": "code",
   "execution_count": 16,
   "metadata": {},
   "outputs": [
    {
     "name": "stdout",
     "output_type": "stream",
     "text": [
      "Length of list is:  7\n"
     ]
    }
   ],
   "source": [
    "# question-03\n",
    "lst=[928,216,63,464,595,876,697]\n",
    "print('Length of list is: ',len(lst))"
   ]
  },
  {
   "cell_type": "code",
   "execution_count": 26,
   "metadata": {},
   "outputs": [
    {
     "name": "stdout",
     "output_type": "stream",
     "text": [
      "sum of list = 4528\n"
     ]
    }
   ],
   "source": [
    "# question-04\n",
    "lst=[928,216,63,464,595,876,697,689]\n",
    "res=0\n",
    "for i in range (len(lst)):\n",
    "    res += lst[i]\n",
    "print(\"sum of list =\",res)"
   ]
  },
  {
   "cell_type": "code",
   "execution_count": 23,
   "metadata": {},
   "outputs": [
    {
     "name": "stdout",
     "output_type": "stream",
     "text": [
      "The largest number in list is:  928\n"
     ]
    }
   ],
   "source": [
    "# question-05\n",
    "list=[928,216,63,464,595,876,697]\n",
    "print('The largest number in list is: ',max(list))"
   ]
  },
  {
   "cell_type": "code",
   "execution_count": 28,
   "metadata": {},
   "outputs": [
    {
     "name": "stdout",
     "output_type": "stream",
     "text": [
      "1\n",
      "2\n",
      "2\n",
      "3\n",
      "1\n",
      "2\n",
      "4\n",
      "2\n"
     ]
    }
   ],
   "source": [
    "# question 06\n",
    "lst=[928,1,216,2,63,5,7,2,3,1,2,6,4,2,464,595]\n",
    "for i in range(len(lst)):\n",
    "    if lst[i]<5:\n",
    "        print(lst[i])"
   ]
  },
  {
   "cell_type": "code",
   "execution_count": null,
   "metadata": {},
   "outputs": [],
   "source": []
  }
 ],
 "metadata": {
  "kernelspec": {
   "display_name": "Python 3",
   "language": "python",
   "name": "python3"
  },
  "language_info": {
   "codemirror_mode": {
    "name": "ipython",
    "version": 3
   },
   "file_extension": ".py",
   "mimetype": "text/x-python",
   "name": "python",
   "nbconvert_exporter": "python",
   "pygments_lexer": "ipython3",
   "version": "3.7.3"
  }
 },
 "nbformat": 4,
 "nbformat_minor": 2
}
