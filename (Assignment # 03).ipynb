{
 "cells": [
  {
   "cell_type": "code",
   "execution_count": 7,
   "metadata": {},
   "outputs": [
    {
     "name": "stdout",
     "output_type": "stream",
     "text": [
      "Enter first number: 36.25\n",
      "Enter second number: 12.65\n",
      "Enter 1 to Add\n",
      "Enter 2 to Subtract\n",
      "Enter 3 to Multiply\n",
      "Enter 4 to Divide\n",
      "Your choice is: 4\n",
      "36.25 / 12.65 = 2.87\n"
     ]
    }
   ],
   "source": [
    "                                        # QUESTION No.01\n",
    "def addition(a, b):\n",
    "   return a + b\n",
    " \n",
    "def subtraction(a, b):\n",
    "   return a - b\n",
    "\n",
    "def multiplication(a, b):\n",
    "   return a * b\n",
    "\n",
    "def division(a, b):\n",
    "   return a / b\n",
    "\n",
    "num1 = float(input(\"Enter first number: \"))\n",
    "num2 = float(input(\"Enter second number: \"))\n",
    "\n",
    "print(\"Enter 1 to Add\")\n",
    "print(\"Enter 2 to Subtract\")\n",
    "print(\"Enter 3 to Multiply\")\n",
    "print(\"Enter 4 to Divide\")\n",
    "choice = input(\"Your choice is: \")\n",
    "\n",
    "if choice == '1':\n",
    "   print(num1,\"+\",num2,\"=\", \"{0:.2f}\".format(addition(num1,num2)))\n",
    "elif choice == '2':\n",
    "   print(num1,\"-\",num2,\"=\", \"{0:.2f}\".format(subtraction(num1,num2)))\n",
    "elif choice == '3':\n",
    "   print(num1,\"*\",num2,\"=\", \"{0:.2f}\".format(multiplication(num1,num2)))\n",
    "elif choice == '4':\n",
    "   print(num1,\"/\",num2,\"=\", \"{0:.2f}\".format(division(num1,num2)))\n",
    "else:\n",
    "   print(\"Invalid input\")"
   ]
  },
  {
   "cell_type": "code",
   "execution_count": 36,
   "metadata": {},
   "outputs": [
    {
     "name": "stdout",
     "output_type": "stream",
     "text": [
      "Checking if numeric value exists in list ( using loop ) : \n",
      "Numeric Value Exists\n"
     ]
    }
   ],
   "source": [
    "                                        # QUESTION No.02\n",
    "lst = ['s',3,5,\"d\",3,4] \n",
    "  \n",
    "print(\"Checking if numeric value exists in list ( using loop ) : \") \n",
    "for i in lst:\n",
    "    if(str(i)>=\"0\" and str(i)<=\"9\") : \n",
    "        print (\"Numeric Value Exists\") \n",
    "        break\n",
    "    else:\n",
    "        continue"
   ]
  },
  {
   "cell_type": "code",
   "execution_count": 1,
   "metadata": {},
   "outputs": [
    {
     "name": "stdout",
     "output_type": "stream",
     "text": [
      "My Name:  {'key1': 'Ali', 'key2': 'Hammad'}\n",
      "My name with Father name:  {'key1': 'Ali', 'key2': 'Hammad', 'key3': 'Waheed'}\n"
     ]
    }
   ],
   "source": [
    "                                        # QUESTION No.03\n",
    "dic = {'key1':'Ali', 'key2':'Hammad'} \n",
    "print(\"My Name: \", dic) \n",
    "dic['key3'] = 'Waheed'\n",
    "print(\"My name with Father name: \", dic) "
   ]
  },
  {
   "cell_type": "code",
   "execution_count": 115,
   "metadata": {},
   "outputs": [
    {
     "name": "stdout",
     "output_type": "stream",
     "text": [
      "Sum = 373.26\n"
     ]
    }
   ],
   "source": [
    "                                        # QUESTION No.04\n",
    "result = 0\n",
    "dictt={ \n",
    "        1: 22.32 ,\n",
    "        2: \"Muhammad\", \n",
    "        3: 85.4, \n",
    "        4:\"Abdullah\",\n",
    "        5: 10.30,\n",
    "        6:\"Waheed\",\n",
    "        7: 255.236,\n",
    "      }\n",
    "\n",
    "for store in dictt.values():\n",
    "    if type(store) == int or type(store) == float:\n",
    "        result = result + store \n",
    "        \n",
    "print(\"Sum = \" + str(\"{0:.2f}\".format(result)))"
   ]
  },
  {
   "cell_type": "code",
   "execution_count": 110,
   "metadata": {
    "scrolled": true
   },
   "outputs": [
    {
     "name": "stdout",
     "output_type": "stream",
     "text": [
      "Duplicate values found in list\n"
     ]
    }
   ],
   "source": [
    "                                        # QUESTION No.05\n",
    "lst = [4,6,3,2,8,1,3,9,\"sad\"]\n",
    "dplt_lst = []\n",
    "flag = False\n",
    "for value in lst:\n",
    "    if  lst.count(value) > 1:\n",
    "        flag = True\n",
    "\n",
    "if flag:\n",
    "    print(\"Duplicate values found in list\")\n",
    "else:\n",
    "    print(\"No duplicate values found in list\")"
   ]
  },
  {
   "cell_type": "code",
   "execution_count": 2,
   "metadata": {},
   "outputs": [
    {
     "name": "stdout",
     "output_type": "stream",
     "text": [
      "Enter Number Key to Check if it exists in dictionary: 1\n",
      "Key already Present/Exists\n"
     ]
    }
   ],
   "source": [
    "                                        # QUESTION No.06\n",
    "dictt={ \n",
    "        1: 22.32 ,\n",
    "        2: \"Ali\", \n",
    "        3: 85.4, \n",
    "        4:\"Hammad\",\n",
    "        5: 10.30,\n",
    "        6:\"hassan\",\n",
    "        7: 255.236,\n",
    "      }\n",
    "\n",
    "key = int(input(\"Enter Number Key to Check if it exists in dictionary: \"))\n",
    "\n",
    "if key in dictt.keys():\n",
    "    print(\"Key already Present/Exists\")\n",
    "else:\n",
    "    print(\"Key Does'nt Present/Exists\")\n"
   ]
  },
  {
   "cell_type": "code",
   "execution_count": null,
   "metadata": {},
   "outputs": [],
   "source": []
  }
 ],
 "metadata": {
  "kernelspec": {
   "display_name": "Python 3",
   "language": "python",
   "name": "python3"
  },
  "language_info": {
   "codemirror_mode": {
    "name": "ipython",
    "version": 3
   },
   "file_extension": ".py",
   "mimetype": "text/x-python",
   "name": "python",
   "nbconvert_exporter": "python",
   "pygments_lexer": "ipython3",
   "version": "3.7.3"
  }
 },
 "nbformat": 4,
 "nbformat_minor": 2
}
